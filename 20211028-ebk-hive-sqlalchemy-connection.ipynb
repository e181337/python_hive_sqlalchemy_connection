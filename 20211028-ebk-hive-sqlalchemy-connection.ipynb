{
 "cells": [
  {
   "cell_type": "markdown",
   "id": "0732c657",
   "metadata": {},
   "source": [
    "<h2 align=\"center\"> Writing Pandas df to Hive db with sqlalchemy</h2>\n",
    "\n",
    "<h2 align=\"center\"> Erinç Koç </h2>"
   ]
  },
  {
   "cell_type": "markdown",
   "id": "47ffb887",
   "metadata": {},
   "source": [
    "<h2 align=\"center\"> Outline </h2><br>\n",
    "\n",
    "### Table of Contents\n",
    "\n",
    "* [1) Import Libraries & Data ](#chapter1)\n",
    "* [2) Kerberos Authentication](#chapter2)\n",
    "* [3) Connect to Cluster Through Kerberos Auth](#chapter3)\n",
    "* [4) Generate Data to Insert DB](#chapter4)\n",
    "* [5) Generate Table in Database](#chapter5)\n",
    "* [6) Insert Data to Table](#chapter6)"
   ]
  },
  {
   "cell_type": "markdown",
   "id": "5f332c77",
   "metadata": {},
   "source": [
    "### 1) Import Libraries & Data<a class=\"anchor\" id=\"chapter1\"></a>"
   ]
  },
  {
   "cell_type": "code",
   "execution_count": null,
   "id": "5b69d196",
   "metadata": {},
   "outputs": [],
   "source": [
    "from sqlalchemy import create_engine\n",
    "import time \n",
    "import pandas as pd\n",
    "import os, subprocess\n",
    "import numpy as np"
   ]
  },
  {
   "cell_type": "code",
   "execution_count": null,
   "id": "bb971fea",
   "metadata": {},
   "outputs": [],
   "source": [
    "### display-related options\n",
    "pd.set_option('display.max_rows', 2000)\n",
    "pd.set_option('display.max_columns', 2000)\n",
    "pd.set_option('display.max_seq_items', 2000)\n",
    "pd.options.display.float_format = '{:.2f}'.format"
   ]
  },
  {
   "cell_type": "markdown",
   "id": "e5de9051",
   "metadata": {},
   "source": [
    "### 2) Kerberos Authentication <a class=\"anchor\" id=\"chapter2\"></a>"
   ]
  },
  {
   "cell_type": "markdown",
   "id": "3cc67ab6",
   "metadata": {},
   "source": [
    "##### Authentication should be generated at OS level. I WON'T add keytab files due to privacy issues."
   ]
  },
  {
   "cell_type": "code",
   "execution_count": null,
   "id": "2f966692",
   "metadata": {},
   "outputs": [],
   "source": [
    "### get kerberos ticket\n",
    "stream = os.popen('kinit -kt data.keytab user1@pyd.pym')\n",
    "output = stream.read()"
   ]
  },
  {
   "cell_type": "code",
   "execution_count": null,
   "id": "73537ef4",
   "metadata": {},
   "outputs": [],
   "source": [
    "###check status of ticket\n",
    "def ticket_check():\n",
    "    return True if subprocess.call(['klist', '-s']) == 0 else False"
   ]
  },
  {
   "cell_type": "code",
   "execution_count": null,
   "id": "19127e76",
   "metadata": {},
   "outputs": [],
   "source": [
    "if ticket_check():\n",
    "    print('Kerberos ticket is valid')\n",
    "else:  \n",
    "    raise RuntimeError('No valid kerberos ticket')"
   ]
  },
  {
   "cell_type": "markdown",
   "id": "0a0777f3",
   "metadata": {},
   "source": [
    "### 3) Connect to Cluster Through Kerberos Auth <a class=\"anchor\" id=\"chapter3\"></a>"
   ]
  },
  {
   "cell_type": "code",
   "execution_count": null,
   "id": "ac04af7b",
   "metadata": {},
   "outputs": [],
   "source": [
    "engine = create_engine('hive://hivenode1:10000/sasl_db',\n",
    "                       connect_args={'auth': 'KERBEROS', 'kerberos_service_name': 'hive', 'username':'user1'})"
   ]
  },
  {
   "cell_type": "markdown",
   "id": "766dbf87",
   "metadata": {},
   "source": [
    "### 4) Generate Data to Insert DB <a class=\"anchor\" id=\"chapter4\"></a>"
   ]
  },
  {
   "cell_type": "code",
   "execution_count": null,
   "id": "3944085b",
   "metadata": {},
   "outputs": [],
   "source": [
    "column_name = []\n",
    "column_length = 100\n",
    "row_length = 100\n",
    "for i in range(column_length):\n",
    "    column_name.append(\"col\" + str(i))\n",
    "df = pd.DataFrame(np.random.randint(0,100,size=(row_length,column_length)), columns=column_name)"
   ]
  },
  {
   "cell_type": "code",
   "execution_count": null,
   "id": "5d0ccfe3",
   "metadata": {},
   "outputs": [],
   "source": [
    "print('Total size of df {:.8f}'.format((df.values.nbytes + df.index.nbytes + df.columns.nbytes ) / 1024.0**3).format() + ' gb')"
   ]
  },
  {
   "cell_type": "markdown",
   "id": "87605f55",
   "metadata": {},
   "source": [
    "### 5) Generate Table in Database <a class=\"anchor\" id=\"chapter5\"></a>"
   ]
  },
  {
   "cell_type": "code",
   "execution_count": null,
   "id": "9df5cb1c",
   "metadata": {},
   "outputs": [],
   "source": [
    "### match type of pandas df to hive type\n",
    "def type_conversion(df, i):\n",
    "    if df[i].dtypes == np.float64:\n",
    "        column_type = \"FLOAT\"\n",
    "    elif df[i].dtypes == np.int32:\n",
    "        column_type = \"INT\"\n",
    "    elif df[i].dtypes == object:\n",
    "        column_type = \"STRING\"\n",
    "    else:\n",
    "        raise RuntimeError(\"No type\")\n",
    "    return column_type"
   ]
  },
  {
   "cell_type": "code",
   "execution_count": null,
   "id": "7c37472c",
   "metadata": {},
   "outputs": [],
   "source": [
    "### Table creation script is generated as string\n",
    "def generate_create_statment(df, db_name, table_name):\n",
    "    column_list = df.columns.values.tolist()\n",
    "    create_statement = \"CREATE TABLE \" + db_name + \".\" + table_name + \" (\"\n",
    "    for i in column_list:\n",
    "        corrent_type = type_conversion(df, i)\n",
    "        create_statement += i + \" \" + corrent_type + \", \"\n",
    "    create_statement = create_statement[:-2]\n",
    "    create_statement = create_statement + \")\"\n",
    "    return create_statement"
   ]
  },
  {
   "cell_type": "code",
   "execution_count": null,
   "id": "f9c5f828",
   "metadata": {},
   "outputs": [],
   "source": [
    "db_name = 'sasl_db'\n",
    "table_name = 'table_1'\n",
    "statement_drop = f\"DROP TABLE IF EXISTS {db_name}.{table_name}\"\n",
    "statement_create = generate_create_statment(df, db_name, table_name)"
   ]
  },
  {
   "cell_type": "markdown",
   "id": "337ce84f",
   "metadata": {},
   "source": [
    "### 6) Insert Data to Table <a class=\"anchor\" id=\"chapter6\"></a>"
   ]
  },
  {
   "cell_type": "code",
   "execution_count": null,
   "id": "4b1914d0",
   "metadata": {},
   "outputs": [],
   "source": [
    "engine.execute(statement_drop)"
   ]
  },
  {
   "cell_type": "code",
   "execution_count": null,
   "id": "063a9030",
   "metadata": {},
   "outputs": [],
   "source": [
    "engine.execute(statement_create)"
   ]
  },
  {
   "cell_type": "code",
   "execution_count": null,
   "id": "ed3d3fa4",
   "metadata": {},
   "outputs": [],
   "source": [
    "###multi insertion with chuck\n",
    "df.to_sql(name=table_name, con=engine, if_exists='append', index=False, method='multi', chunksize=10000)"
   ]
  }
 ],
 "metadata": {
  "kernelspec": {
   "display_name": "env_data",
   "language": "python",
   "name": "env_data"
  },
  "language_info": {
   "codemirror_mode": {
    "name": "ipython",
    "version": 3
   },
   "file_extension": ".py",
   "mimetype": "text/x-python",
   "name": "python",
   "nbconvert_exporter": "python",
   "pygments_lexer": "ipython3",
   "version": "3.8.8"
  }
 },
 "nbformat": 4,
 "nbformat_minor": 5
}
